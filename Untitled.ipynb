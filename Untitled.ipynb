{
 "cells": [
  {
   "cell_type": "code",
   "execution_count": 242,
   "metadata": {},
   "outputs": [],
   "source": [
    "from folderstats import *\n",
    "import multiprocessing as mp\n",
    "from datetime import datetime\n",
    "import numpy as np\n",
    "from pathlib import Path"
   ]
  },
  {
   "cell_type": "code",
   "execution_count": 140,
   "metadata": {},
   "outputs": [],
   "source": [
    "file=\"E:/Dropbox/Patryk/Lab_Notes/Projects/Server_Maintenance/Data/07.13.2020/combined_folderstats.parsed.txt\"\n",
    "df=pd.read_csv(file,sep='\\t')"
   ]
  },
  {
   "cell_type": "code",
   "execution_count": 228,
   "metadata": {},
   "outputs": [],
   "source": [
    "#Extract the inodes keep only the first file location (Ideally keep the one with the earliest date since that is most likely the owner of the file)\n",
    "unique_inodes=df.drop_duplicates(subset=\"inode\", keep=\"first\", inplace=False)"
   ]
  },
  {
   "cell_type": "code",
   "execution_count": 229,
   "metadata": {},
   "outputs": [],
   "source": [
    "#Shuffle the dataframe \n",
    "unique_inodes = unique_inodes.sample(frac=1).reset_index(drop=True)"
   ]
  },
  {
   "cell_type": "code",
   "execution_count": 230,
   "metadata": {},
   "outputs": [],
   "source": [
    "#Assign clusters 1:num_clus of approximately equal size of data\n",
    "num_clus=200\n",
    "unique_inodes[\"equal_datasize_clusters\"], approx_size=equisum_partition(unique_inodes[\"size\"].to_numpy(copy=True), \n",
    "                                                                        num_clus, ignore=unique_inodes[\"folder\"].to_numpy(copy=True))"
   ]
  },
  {
   "cell_type": "code",
   "execution_count": 241,
   "metadata": {},
   "outputs": [
    {
     "ename": "NameError",
     "evalue": "name 'Path' is not defined",
     "output_type": "error",
     "traceback": [
      "\u001b[1;31m---------------------------------------------------------------------------\u001b[0m",
      "\u001b[1;31mNameError\u001b[0m                                 Traceback (most recent call last)",
      "\u001b[1;32m<ipython-input-241-07825537cd65>\u001b[0m in \u001b[0;36m<module>\u001b[1;34m\u001b[0m\n\u001b[0;32m      1\u001b[0m \u001b[1;31m#Operations on each file cluster\u001b[0m\u001b[1;33m\u001b[0m\u001b[1;33m\u001b[0m\u001b[1;33m\u001b[0m\u001b[0m\n\u001b[0;32m      2\u001b[0m \u001b[0moutput_dir\u001b[0m\u001b[1;33m=\u001b[0m\u001b[1;34m\"/hpf/largeprojects/mdtaylor/patryks/Server_Police/Data/07.13.2020/md5_calculations\"\u001b[0m\u001b[1;33m\u001b[0m\u001b[1;33m\u001b[0m\u001b[0m\n\u001b[1;32m----> 3\u001b[1;33m \u001b[0mPath\u001b[0m\u001b[1;33m(\u001b[0m\u001b[0moutput_dir\u001b[0m\u001b[1;33m)\u001b[0m\u001b[1;33m.\u001b[0m\u001b[0mmkdir\u001b[0m\u001b[1;33m(\u001b[0m\u001b[0mparents\u001b[0m\u001b[1;33m=\u001b[0m\u001b[1;32mTrue\u001b[0m\u001b[1;33m,\u001b[0m \u001b[0mexist_ok\u001b[0m\u001b[1;33m=\u001b[0m\u001b[1;32mTrue\u001b[0m\u001b[1;33m)\u001b[0m\u001b[1;33m\u001b[0m\u001b[1;33m\u001b[0m\u001b[0m\n\u001b[0m\u001b[0;32m      4\u001b[0m \u001b[1;33m\u001b[0m\u001b[0m\n\u001b[0;32m      5\u001b[0m \u001b[1;33m\u001b[0m\u001b[0m\n",
      "\u001b[1;31mNameError\u001b[0m: name 'Path' is not defined"
     ]
    }
   ],
   "source": [
    "#Operations on each file cluster\n",
    "output_dir=\"/hpf/largeprojects/mdtaylor/patryks/Server_Police/Data/07.13.2020/md5_calculations\"\n",
    "Path(output_dir).mkdir(parents=True, exist_ok=True)\n",
    "\n",
    "\n",
    "for i in range(1,num_clus+1):\n",
    "    \n",
    "    #Split the dataframe and keep only the inode and file path\n",
    "    unique_inodes.loc[unique_inodes[\"equal_datasize_clusters\"]==i , [\"equal_datasize_clusters\",\"absolute_path\",\"size\", \"inode\"]]\n",
    "    \n",
    "    #Write md5 list on disk\n",
    "    outfile=os.path.join(output_dir, \"clus{}_md5_filelist.txt\".format(i))\n",
    "    #unique_inodes.to_csv(df_output, sep=\"\\t\", index=False)\n",
    "    print(outfile)\n",
    "    \n",
    "    #Create qsub script to excute parallelized md5 calculations on cluster"
   ]
  }
 ],
 "metadata": {
  "kernelspec": {
   "display_name": "Python 3",
   "language": "python",
   "name": "python3"
  },
  "language_info": {
   "codemirror_mode": {
    "name": "ipython",
    "version": 3
   },
   "file_extension": ".py",
   "mimetype": "text/x-python",
   "name": "python",
   "nbconvert_exporter": "python",
   "pygments_lexer": "ipython3",
   "version": "3.8.2"
  }
 },
 "nbformat": 4,
 "nbformat_minor": 4
}
