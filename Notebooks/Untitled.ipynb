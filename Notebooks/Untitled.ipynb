{
 "cells": [
  {
   "cell_type": "markdown",
   "metadata": {},
   "source": [
    "# Environment Setup"
   ]
  },
  {
   "cell_type": "markdown",
   "metadata": {},
   "source": [
    "## Packages"
   ]
  },
  {
   "cell_type": "code",
   "execution_count": 26,
   "metadata": {},
   "outputs": [],
   "source": [
    "from folderstats import *\n",
    "import sys\n",
    "import pandas as pd\n",
    "import gc"
   ]
  },
  {
   "cell_type": "markdown",
   "metadata": {},
   "source": [
    "## Parameters"
   ]
  },
  {
   "cell_type": "code",
   "execution_count": 12,
   "metadata": {},
   "outputs": [],
   "source": [
    "input_dir=\"E:/Dropbox/Patryk/Lab_Notes/Projects/Server_Maintenance/Data/07.17.2020/folderstats/\"\n",
    "output_dir=\"E:/Dropbox/Patryk/Lab_Notes/Projects/Server_Maintenance/Data/07.17.2020/analysis/\""
   ]
  },
  {
   "cell_type": "markdown",
   "metadata": {},
   "source": [
    "# Load and Clean Data"
   ]
  },
  {
   "cell_type": "code",
   "execution_count": 15,
   "metadata": {},
   "outputs": [
    {
     "name": "stderr",
     "output_type": "stream",
     "text": [
      "e:\\dropbox\\patryk\\lab_notes\\projects\\server_maintenance\\env\\lib\\site-packages\\IPython\\core\\interactiveshell.py:3071: DtypeWarning: Columns (2,3,4,8) have mixed types.Specify dtype option on import or set low_memory=False.\n",
      "  has_raised = await self.run_ast_nodes(code_ast.body, cell_name,\n"
     ]
    }
   ],
   "source": [
    "df=pd.read_csv(os.path.join(input_dir, \"folderstats_combined.parsed.txt\"), sep='\\t')"
   ]
  },
  {
   "cell_type": "markdown",
   "metadata": {},
   "source": [
    "In Columns 2,3,4,8 there is a mixed datatype warning. Column 3 and 8 definitely need to be numeric so I need to see what is the problem."
   ]
  },
  {
   "cell_type": "code",
   "execution_count": 152,
   "metadata": {},
   "outputs": [
    {
     "name": "stdout",
     "output_type": "stream",
     "text": [
      "<class 'pandas.core.frame.DataFrame'>\n",
      "RangeIndex: 39793923 entries, 0 to 39793922\n",
      "Data columns (total 8 columns):\n",
      " #   Column          Dtype  \n",
      "---  ------          -----  \n",
      " 0   path            object \n",
      " 1   name            object \n",
      " 2   extension       object \n",
      " 3   size            float64\n",
      " 4   folder          object \n",
      " 5   uid             float64\n",
      " 6   inode           float64\n",
      " 7   num_hard_links  float64\n",
      "dtypes: float64(4), object(4)\n",
      "memory usage: 15.2 GB\n"
     ]
    }
   ],
   "source": [
    "df.info(memory_usage=\"deep\")"
   ]
  },
  {
   "cell_type": "markdown",
   "metadata": {},
   "source": [
    "The dataframe is also large and just barely fits in my memory so I need to cut out some useless columns for now."
   ]
  },
  {
   "cell_type": "code",
   "execution_count": null,
   "metadata": {},
   "outputs": [],
   "source": [
    "df.drop(columns=[\"depth\",\"num_files\",\"parent\",\"permissions\"], inplace=True)"
   ]
  },
  {
   "cell_type": "markdown",
   "metadata": {},
   "source": [
    "### Size Column\n",
    "All the rows I randomly inspected that are null after the conversion are symbolic links to files that may or may not be broken. This is a fair treatment of this scenario since I don't want to count each link to the same file. Most of the broken symbolic links seem to come from Hiro's folders."
   ]
  },
  {
   "cell_type": "code",
   "execution_count": 77,
   "metadata": {},
   "outputs": [],
   "source": [
    "df['size']=pd.to_numeric(df['size'], errors='coerce')"
   ]
  },
  {
   "cell_type": "code",
   "execution_count": 144,
   "metadata": {},
   "outputs": [
    {
     "data": {
      "text/plain": [
       "['/hpf/largeprojects/mdtaylor/hsuzuki/velvet/MDT-AP-0074_N/contigs/13_40876316_+_13_40878269_+_---_inversion/hash/_71/Sequences',\n",
       " '/hpf/largeprojects/mdtaylor/hsuzuki/velvet/MDT-AP-0705_N/contigs/4_2359545_-_4_2359555_+_---_tandem_duplication/hash/_31/Sequences',\n",
       " '/hpf/largeprojects/mdtaylor/hsuzuki/velvet/MDT-AP-2180_N/contigs/9_140180086_+_9_140186297_-_GCCG_deletion/hash/_21/Sequences',\n",
       " '/hpf/largeprojects/mdtaylor/hsuzuki/velvet/ICGC_MB274_N/contigs/4_103345570_-_4_103345572_+_CCCCTCTAACCAA_tandem_duplication/hash/_71/Sequences',\n",
       " '/hpf/largeprojects/mdtaylor/hsuzuki/velvet/ICGC_MB181_N/contigs/22_18359828_-_7_115253910_+_---_translocation/hash/_71/Sequences']"
      ]
     },
     "execution_count": 144,
     "metadata": {},
     "output_type": "execute_result"
    }
   ],
   "source": [
    "rand=np.random.randint(np.sum(df['size'].isnull()), size=5)\n",
    "list(df.loc[df['size'].isnull(),\"path\"].iloc[rand])"
   ]
  },
  {
   "cell_type": "markdown",
   "metadata": {},
   "source": [
    "### uid Column"
   ]
  },
  {
   "cell_type": "markdown",
   "metadata": {},
   "source": [
    "Similar to the size column the uid column also contains non-numeric entries which correspond to symbolic links. In every case where size is Null, the uid column is also Null."
   ]
  },
  {
   "cell_type": "code",
   "execution_count": null,
   "metadata": {},
   "outputs": [],
   "source": [
    "df['uid']=pd.to_numeric(df['uid'], errors='coerce')"
   ]
  },
  {
   "cell_type": "code",
   "execution_count": 143,
   "metadata": {},
   "outputs": [
    {
     "data": {
      "text/plain": [
       "['/hpf/largeprojects/mdtaylor/hsuzuki/velvet/MDT-AP-3431_N/contigs/11_93356323_+_11_93356361_-_---_deletion/hash/_51/Sequences',\n",
       " '/hpf/largeprojects/mdtaylor/hsuzuki/velvet/ICGC_MB36_N/contigs/1_201251309_+_1_201251388_-_---_deletion/hash/_41/Sequences',\n",
       " '/hpf/largeprojects/mdtaylor/hsuzuki/velvet/MDT-AP-0207_T/contigs/6_63913522_+_6_63917031_+_---_inversion/hash/_41/Sequences',\n",
       " '/hpf/largeprojects/mdtaylor/hsuzuki/velvet/ICGC_MB153_N/contigs/1_34968401_+_17_52653662_-_---_translocation/hash/_21/Sequences',\n",
       " '/hpf/largeprojects/mdtaylor/hsuzuki/velvet/ICGC_MB193_N/contigs/8_67194192_+_8_67194229_-_---_deletion/hash/_51/Sequences']"
      ]
     },
     "execution_count": 143,
     "metadata": {},
     "output_type": "execute_result"
    }
   ],
   "source": [
    "rand=np.random.randint(np.sum(df['uid'].isnull()), size=5)\n",
    "list(df.loc[df['uid'].isnull(),\"path\"].iloc[rand])"
   ]
  },
  {
   "cell_type": "code",
   "execution_count": 142,
   "metadata": {},
   "outputs": [
    {
     "name": "stdout",
     "output_type": "stream",
     "text": [
      "size col Null: 2141986, uid col Null: 2141986, both Null 2141986\n"
     ]
    }
   ],
   "source": [
    "a=np.sum(df['size'].isnull())\n",
    "b=np.sum(df['uid'].isnull())\n",
    "both=np.sum(df['uid'].isnull() & df['uid'].isnull())\n",
    "\n",
    "print(\"size col Null: {}, uid col Null: {}, both Null {}\".format(a,b,both))"
   ]
  },
  {
   "cell_type": "markdown",
   "metadata": {},
   "source": [
    "## Find Compressible File Candidates"
   ]
  },
  {
   "cell_type": "markdown",
   "metadata": {},
   "source": [
    "The lowest hanging fruit is to find all the non-compressed fastq and sam files. These are huge files which will make a big difference if they are compressed."
   ]
  },
  {
   "cell_type": "code",
   "execution_count": null,
   "metadata": {},
   "outputs": [],
   "source": [
    "def find_fastq(str_ary):\n",
    "    "
   ]
  },
  {
   "cell_type": "code",
   "execution_count": 165,
   "metadata": {},
   "outputs": [],
   "source": [
    "pattern='fastq$'\n",
    "match=df['name'].str.match(pattern)"
   ]
  },
  {
   "cell_type": "code",
   "execution_count": 175,
   "metadata": {},
   "outputs": [
    {
     "data": {
      "text/plain": [
       "(array([False, nan, False, nan, False, nan, False, nan, False, nan, False,\n",
       "        nan, False, nan, False, nan, False, nan, False, nan, False, nan,\n",
       "        False, nan, False, nan, False, nan, False, nan, False, nan, False,\n",
       "        nan, False, nan, False, nan, False, nan, False, nan, False, nan,\n",
       "        False, nan, False, nan, False, nan, False, nan, False, nan, False,\n",
       "        nan, False, nan, False, nan, False, nan, False, nan, False, nan,\n",
       "        False, nan, False, nan, False, nan, False, nan, False, nan, False,\n",
       "        nan, False, nan, False, nan, False, nan, False, nan, False, nan,\n",
       "        False, nan, False, nan, False, nan, False, True], dtype=object),\n",
       " array([24746801,        1,  1542922,        1,  4645927,        1,\n",
       "             314,        1,     9163,        1,     1518,        1,\n",
       "            5415,        1,    18579,        1,    21616,        1,\n",
       "            2721,        1,     5444,        1,     9410,        1,\n",
       "           10020,        1,    67805,        1,  2871885,        1,\n",
       "           68885,        1,    46229,        1,    49035,        1,\n",
       "            6623,        1,     2759,        1,     5444,        1,\n",
       "           15026,        1,    25056,        1,     9420,        1,\n",
       "            6470,        1,     2722,        1,   312861,        1,\n",
       "           17310,        1,     8502,        1,     6665,        1,\n",
       "            2144,        1,    23748,        1,     4974,        1,\n",
       "            7630,        1,     2108,        1,     1756,        1,\n",
       "            2521,        1,    16481,        1,    24815,        1,\n",
       "            6007,        1,      373,        1,    13472,        1,\n",
       "            3267,        1,     7347,        1,     4294,        1,\n",
       "           82372,        1,  2025493,        1,  3022299,      228],\n",
       "       dtype=int64))"
      ]
     },
     "execution_count": 175,
     "metadata": {},
     "output_type": "execute_result"
    }
   ],
   "source": [
    "np.unique(match, return_counts=True)"
   ]
  },
  {
   "cell_type": "code",
   "execution_count": 171,
   "metadata": {},
   "outputs": [
    {
     "ename": "ValueError",
     "evalue": "Cannot mask with non-boolean array containing NA / NaN values",
     "output_type": "error",
     "traceback": [
      "\u001b[1;31m---------------------------------------------------------------------------\u001b[0m",
      "\u001b[1;31mValueError\u001b[0m                                Traceback (most recent call last)",
      "\u001b[1;32m<ipython-input-171-cc4537146bdf>\u001b[0m in \u001b[0;36m<module>\u001b[1;34m\u001b[0m\n\u001b[1;32m----> 1\u001b[1;33m \u001b[0mdf\u001b[0m\u001b[1;33m.\u001b[0m\u001b[0mloc\u001b[0m\u001b[1;33m[\u001b[0m\u001b[0mmatch\u001b[0m\u001b[1;33m]\u001b[0m\u001b[1;33m\u001b[0m\u001b[1;33m\u001b[0m\u001b[0m\n\u001b[0m",
      "\u001b[1;32me:\\dropbox\\patryk\\lab_notes\\projects\\server_maintenance\\env\\lib\\site-packages\\pandas\\core\\indexing.py\u001b[0m in \u001b[0;36m__getitem__\u001b[1;34m(self, key)\u001b[0m\n\u001b[0;32m   1766\u001b[0m \u001b[1;33m\u001b[0m\u001b[0m\n\u001b[0;32m   1767\u001b[0m             \u001b[0mmaybe_callable\u001b[0m \u001b[1;33m=\u001b[0m \u001b[0mcom\u001b[0m\u001b[1;33m.\u001b[0m\u001b[0mapply_if_callable\u001b[0m\u001b[1;33m(\u001b[0m\u001b[0mkey\u001b[0m\u001b[1;33m,\u001b[0m \u001b[0mself\u001b[0m\u001b[1;33m.\u001b[0m\u001b[0mobj\u001b[0m\u001b[1;33m)\u001b[0m\u001b[1;33m\u001b[0m\u001b[1;33m\u001b[0m\u001b[0m\n\u001b[1;32m-> 1768\u001b[1;33m             \u001b[1;32mreturn\u001b[0m \u001b[0mself\u001b[0m\u001b[1;33m.\u001b[0m\u001b[0m_getitem_axis\u001b[0m\u001b[1;33m(\u001b[0m\u001b[0mmaybe_callable\u001b[0m\u001b[1;33m,\u001b[0m \u001b[0maxis\u001b[0m\u001b[1;33m=\u001b[0m\u001b[0maxis\u001b[0m\u001b[1;33m)\u001b[0m\u001b[1;33m\u001b[0m\u001b[1;33m\u001b[0m\u001b[0m\n\u001b[0m\u001b[0;32m   1769\u001b[0m \u001b[1;33m\u001b[0m\u001b[0m\n\u001b[0;32m   1770\u001b[0m     \u001b[1;32mdef\u001b[0m \u001b[0m_is_scalar_access\u001b[0m\u001b[1;33m(\u001b[0m\u001b[0mself\u001b[0m\u001b[1;33m,\u001b[0m \u001b[0mkey\u001b[0m\u001b[1;33m:\u001b[0m \u001b[0mTuple\u001b[0m\u001b[1;33m)\u001b[0m\u001b[1;33m:\u001b[0m\u001b[1;33m\u001b[0m\u001b[1;33m\u001b[0m\u001b[0m\n",
      "\u001b[1;32me:\\dropbox\\patryk\\lab_notes\\projects\\server_maintenance\\env\\lib\\site-packages\\pandas\\core\\indexing.py\u001b[0m in \u001b[0;36m_getitem_axis\u001b[1;34m(self, key, axis)\u001b[0m\n\u001b[0;32m   1911\u001b[0m             \u001b[0mself\u001b[0m\u001b[1;33m.\u001b[0m\u001b[0m_validate_key\u001b[0m\u001b[1;33m(\u001b[0m\u001b[0mkey\u001b[0m\u001b[1;33m,\u001b[0m \u001b[0maxis\u001b[0m\u001b[1;33m)\u001b[0m\u001b[1;33m\u001b[0m\u001b[1;33m\u001b[0m\u001b[0m\n\u001b[0;32m   1912\u001b[0m             \u001b[1;32mreturn\u001b[0m \u001b[0mself\u001b[0m\u001b[1;33m.\u001b[0m\u001b[0m_get_slice_axis\u001b[0m\u001b[1;33m(\u001b[0m\u001b[0mkey\u001b[0m\u001b[1;33m,\u001b[0m \u001b[0maxis\u001b[0m\u001b[1;33m=\u001b[0m\u001b[0maxis\u001b[0m\u001b[1;33m)\u001b[0m\u001b[1;33m\u001b[0m\u001b[1;33m\u001b[0m\u001b[0m\n\u001b[1;32m-> 1913\u001b[1;33m         \u001b[1;32melif\u001b[0m \u001b[0mcom\u001b[0m\u001b[1;33m.\u001b[0m\u001b[0mis_bool_indexer\u001b[0m\u001b[1;33m(\u001b[0m\u001b[0mkey\u001b[0m\u001b[1;33m)\u001b[0m\u001b[1;33m:\u001b[0m\u001b[1;33m\u001b[0m\u001b[1;33m\u001b[0m\u001b[0m\n\u001b[0m\u001b[0;32m   1914\u001b[0m             \u001b[1;32mreturn\u001b[0m \u001b[0mself\u001b[0m\u001b[1;33m.\u001b[0m\u001b[0m_getbool_axis\u001b[0m\u001b[1;33m(\u001b[0m\u001b[0mkey\u001b[0m\u001b[1;33m,\u001b[0m \u001b[0maxis\u001b[0m\u001b[1;33m=\u001b[0m\u001b[0maxis\u001b[0m\u001b[1;33m)\u001b[0m\u001b[1;33m\u001b[0m\u001b[1;33m\u001b[0m\u001b[0m\n\u001b[0;32m   1915\u001b[0m         \u001b[1;32melif\u001b[0m \u001b[0mis_list_like_indexer\u001b[0m\u001b[1;33m(\u001b[0m\u001b[0mkey\u001b[0m\u001b[1;33m)\u001b[0m\u001b[1;33m:\u001b[0m\u001b[1;33m\u001b[0m\u001b[1;33m\u001b[0m\u001b[0m\n",
      "\u001b[1;32me:\\dropbox\\patryk\\lab_notes\\projects\\server_maintenance\\env\\lib\\site-packages\\pandas\\core\\common.py\u001b[0m in \u001b[0;36mis_bool_indexer\u001b[1;34m(key)\u001b[0m\n\u001b[0;32m    134\u001b[0m                 \u001b[0mna_msg\u001b[0m \u001b[1;33m=\u001b[0m \u001b[1;34m\"Cannot mask with non-boolean array containing NA / NaN values\"\u001b[0m\u001b[1;33m\u001b[0m\u001b[1;33m\u001b[0m\u001b[0m\n\u001b[0;32m    135\u001b[0m                 \u001b[1;32mif\u001b[0m \u001b[0misna\u001b[0m\u001b[1;33m(\u001b[0m\u001b[0mkey\u001b[0m\u001b[1;33m)\u001b[0m\u001b[1;33m.\u001b[0m\u001b[0many\u001b[0m\u001b[1;33m(\u001b[0m\u001b[1;33m)\u001b[0m\u001b[1;33m:\u001b[0m\u001b[1;33m\u001b[0m\u001b[1;33m\u001b[0m\u001b[0m\n\u001b[1;32m--> 136\u001b[1;33m                     \u001b[1;32mraise\u001b[0m \u001b[0mValueError\u001b[0m\u001b[1;33m(\u001b[0m\u001b[0mna_msg\u001b[0m\u001b[1;33m)\u001b[0m\u001b[1;33m\u001b[0m\u001b[1;33m\u001b[0m\u001b[0m\n\u001b[0m\u001b[0;32m    137\u001b[0m                 \u001b[1;32mreturn\u001b[0m \u001b[1;32mFalse\u001b[0m\u001b[1;33m\u001b[0m\u001b[1;33m\u001b[0m\u001b[0m\n\u001b[0;32m    138\u001b[0m             \u001b[1;32mreturn\u001b[0m \u001b[1;32mTrue\u001b[0m\u001b[1;33m\u001b[0m\u001b[1;33m\u001b[0m\u001b[0m\n",
      "\u001b[1;31mValueError\u001b[0m: Cannot mask with non-boolean array containing NA / NaN values"
     ]
    }
   ],
   "source": [
    "df.loc[match]"
   ]
  }
 ],
 "metadata": {
  "kernelspec": {
   "display_name": "Python 3",
   "language": "python",
   "name": "python3"
  },
  "language_info": {
   "codemirror_mode": {
    "name": "ipython",
    "version": 3
   },
   "file_extension": ".py",
   "mimetype": "text/x-python",
   "name": "python",
   "nbconvert_exporter": "python",
   "pygments_lexer": "ipython3",
   "version": "3.8.2"
  }
 },
 "nbformat": 4,
 "nbformat_minor": 4
}
